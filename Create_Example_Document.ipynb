{
 "cells": [
  {
   "cell_type": "code",
   "execution_count": 17,
   "id": "166def1d-220d-4abe-a465-1e771cad6075",
   "metadata": {},
   "outputs": [
    {
     "name": "stdout",
     "output_type": "stream",
     "text": [
      "Collecting git+https://github.com/EnzymeML/PyEnzyme.git@pysces_simulation\n",
      "  Cloning https://github.com/EnzymeML/PyEnzyme.git (to revision pysces_simulation) to /private/var/folders/0f/gvqwxk9d46z_cz6w3zg6yn1m0000gn/T/pip-req-build-gan5_wua\n",
      "  Running command git clone -q https://github.com/EnzymeML/PyEnzyme.git /private/var/folders/0f/gvqwxk9d46z_cz6w3zg6yn1m0000gn/T/pip-req-build-gan5_wua\n",
      "  Running command git checkout -b pysces_simulation --track origin/pysces_simulation\n",
      "  Switched to a new branch 'pysces_simulation'\n",
      "  Branch 'pysces_simulation' set up to track remote branch 'pysces_simulation' from 'origin'.\n",
      "  Resolved https://github.com/EnzymeML/PyEnzyme.git to commit c1d03d53ceeeb98c0f50bcc4504c4c81b8c37e0c\n",
      "Requirement already satisfied: python-libsbml in /opt/homebrew/Caskroom/miniforge/base/lib/python3.9/site-packages (from PyEnzyme==1.1.3) (5.19.0)\n",
      "Requirement already satisfied: numpy in /opt/homebrew/Caskroom/miniforge/base/lib/python3.9/site-packages (from PyEnzyme==1.1.3) (1.21.2)\n",
      "Requirement already satisfied: pandas in /opt/homebrew/Caskroom/miniforge/base/lib/python3.9/site-packages (from PyEnzyme==1.1.3) (1.4.1)\n",
      "Requirement already satisfied: python-libcombine in /opt/homebrew/Caskroom/miniforge/base/lib/python3.9/site-packages (from PyEnzyme==1.1.3) (0.2.1)\n",
      "Requirement already satisfied: scipy in /opt/homebrew/Caskroom/miniforge/base/lib/python3.9/site-packages (from PyEnzyme==1.1.3) (1.8.0)\n",
      "Requirement already satisfied: texttable in /opt/homebrew/Caskroom/miniforge/base/lib/python3.9/site-packages (from PyEnzyme==1.1.3) (1.6.4)\n",
      "Requirement already satisfied: pydantic in /opt/homebrew/Caskroom/miniforge/base/lib/python3.9/site-packages (from PyEnzyme==1.1.3) (1.8.2)\n",
      "Requirement already satisfied: deprecation in /opt/homebrew/Caskroom/miniforge/base/lib/python3.9/site-packages (from PyEnzyme==1.1.3) (2.1.0)\n",
      "Requirement already satisfied: deepdiff in /opt/homebrew/Caskroom/miniforge/base/lib/python3.9/site-packages (from PyEnzyme==1.1.3) (5.7.0)\n",
      "Requirement already satisfied: python-multipart in /opt/homebrew/Caskroom/miniforge/base/lib/python3.9/site-packages (from PyEnzyme==1.1.3) (0.0.5)\n",
      "Requirement already satisfied: openpyxl in /opt/homebrew/Caskroom/miniforge/base/lib/python3.9/site-packages (from PyEnzyme==1.1.3) (3.0.8)\n",
      "Requirement already satisfied: xlsxwriter in /opt/homebrew/Caskroom/miniforge/base/lib/python3.9/site-packages (from PyEnzyme==1.1.3) (3.0.3)\n",
      "Requirement already satisfied: numexpr in /opt/homebrew/Caskroom/miniforge/base/lib/python3.9/site-packages (from PyEnzyme==1.1.3) (2.8.1)\n",
      "Requirement already satisfied: seaborn in /opt/homebrew/Caskroom/miniforge/base/lib/python3.9/site-packages (from PyEnzyme==1.1.3) (0.11.2)\n",
      "Requirement already satisfied: plotly in /opt/homebrew/Caskroom/miniforge/base/lib/python3.9/site-packages (from PyEnzyme==1.1.3) (5.6.0)\n",
      "Requirement already satisfied: pyyaml==5.4.1 in /opt/homebrew/Caskroom/miniforge/base/lib/python3.9/site-packages (from PyEnzyme==1.1.3) (5.4.1)\n",
      "Requirement already satisfied: ordered-set==4.0.2 in /opt/homebrew/Caskroom/miniforge/base/lib/python3.9/site-packages (from deepdiff->PyEnzyme==1.1.3) (4.0.2)\n",
      "Requirement already satisfied: packaging in /opt/homebrew/Caskroom/miniforge/base/lib/python3.9/site-packages (from deprecation->PyEnzyme==1.1.3) (21.3)\n",
      "Requirement already satisfied: et-xmlfile in /opt/homebrew/Caskroom/miniforge/base/lib/python3.9/site-packages (from openpyxl->PyEnzyme==1.1.3) (1.1.0)\n",
      "Requirement already satisfied: pyparsing!=3.0.5,>=2.0.2 in /opt/homebrew/Caskroom/miniforge/base/lib/python3.9/site-packages (from packaging->deprecation->PyEnzyme==1.1.3) (3.0.7)\n",
      "Requirement already satisfied: python-dateutil>=2.8.1 in /opt/homebrew/Caskroom/miniforge/base/lib/python3.9/site-packages (from pandas->PyEnzyme==1.1.3) (2.8.2)\n",
      "Requirement already satisfied: pytz>=2020.1 in /opt/homebrew/Caskroom/miniforge/base/lib/python3.9/site-packages (from pandas->PyEnzyme==1.1.3) (2021.3)\n",
      "Requirement already satisfied: six>=1.5 in /opt/homebrew/Caskroom/miniforge/base/lib/python3.9/site-packages (from python-dateutil>=2.8.1->pandas->PyEnzyme==1.1.3) (1.16.0)\n",
      "Requirement already satisfied: tenacity>=6.2.0 in /opt/homebrew/Caskroom/miniforge/base/lib/python3.9/site-packages (from plotly->PyEnzyme==1.1.3) (8.0.1)\n",
      "Requirement already satisfied: typing-extensions>=3.7.4.3 in /opt/homebrew/Caskroom/miniforge/base/lib/python3.9/site-packages (from pydantic->PyEnzyme==1.1.3) (4.1.1)\n",
      "Requirement already satisfied: matplotlib>=2.2 in /opt/homebrew/Caskroom/miniforge/base/lib/python3.9/site-packages (from seaborn->PyEnzyme==1.1.3) (3.4.3)\n",
      "Requirement already satisfied: kiwisolver>=1.0.1 in /opt/homebrew/Caskroom/miniforge/base/lib/python3.9/site-packages (from matplotlib>=2.2->seaborn->PyEnzyme==1.1.3) (1.4.0)\n",
      "Requirement already satisfied: pillow>=6.2.0 in /opt/homebrew/Caskroom/miniforge/base/lib/python3.9/site-packages (from matplotlib>=2.2->seaborn->PyEnzyme==1.1.3) (9.0.1)\n",
      "Requirement already satisfied: cycler>=0.10 in /opt/homebrew/Caskroom/miniforge/base/lib/python3.9/site-packages (from matplotlib>=2.2->seaborn->PyEnzyme==1.1.3) (0.11.0)\n",
      "Building wheels for collected packages: PyEnzyme\n",
      "  Building wheel for PyEnzyme (setup.py) ... \u001b[?25ldone\n",
      "\u001b[?25h  Created wheel for PyEnzyme: filename=PyEnzyme-1.1.3-py3-none-any.whl size=118163 sha256=db4348b5b75240dd04ee566302a0d6654288348156de4a172583bd558a70604a\n",
      "  Stored in directory: /private/var/folders/0f/gvqwxk9d46z_cz6w3zg6yn1m0000gn/T/pip-ephem-wheel-cache-51k44ymv/wheels/c0/d2/79/892773bada6ed08e026443201a499668d900bf7645a539ba67\n",
      "Successfully built PyEnzyme\n",
      "Installing collected packages: PyEnzyme\n",
      "Successfully installed PyEnzyme-1.1.3\n"
     ]
    }
   ],
   "source": [
    "!pip install git+https://github.com/EnzymeML/PyEnzyme.git@pysces_simulation"
   ]
  },
  {
   "cell_type": "code",
   "execution_count": 34,
   "id": "73f10560-ea99-43cf-bac3-04bdfb9f815d",
   "metadata": {},
   "outputs": [],
   "source": [
    "import pyenzyme as pe"
   ]
  },
  {
   "cell_type": "markdown",
   "id": "ed64ba69-2920-497e-a350-75548a1cc316",
   "metadata": {},
   "source": [
    "## Creating an EnzymeML document"
   ]
  },
  {
   "cell_type": "code",
   "execution_count": 35,
   "id": "60ed9ea2-e693-4d4e-aef2-58b33efb9626",
   "metadata": {},
   "outputs": [],
   "source": [
    "enzmldoc = pe.EnzymeMLDocument(name=\"Alcohol formation\")"
   ]
  },
  {
   "cell_type": "code",
   "execution_count": 36,
   "id": "dab96c5e-eaec-403b-b1d1-d21b8da1c5e1",
   "metadata": {},
   "outputs": [],
   "source": [
    "# Add Vessel\n",
    "vessel = pe.Vessel(name=\"Tube\", volume=10, unit=\"ml\")\n",
    "vessel_id = enzmldoc.addVessel(vessel)"
   ]
  },
  {
   "cell_type": "code",
   "execution_count": 37,
   "id": "7ac8c85f-767d-42cd-8ae0-bae5044a2b03",
   "metadata": {},
   "outputs": [],
   "source": [
    "# Add reactants\n",
    "pyruvate = pe.Reactant.fromChebiID(\n",
    "    chebi_id=\"CHEBI:15361\", vessel_id=vessel_id,\n",
    "    init_conc=10.0, unit=\"mmole / l\"\n",
    ")\n",
    "\n",
    "acetald = pe.Reactant.fromChebiID(\n",
    "    chebi_id=\"CHEBI:15343\", vessel_id=vessel_id,\n",
    "    init_conc=0.0, unit=\"mmole / l\"\n",
    ")\n",
    "\n",
    "acetald_id = enzmldoc.addReactant(acetald)\n",
    "\n",
    "ethanol = pe.Reactant.fromChebiID(\n",
    "    chebi_id=\"CHEBI:16236\", vessel_id=vessel_id,\n",
    "    init_conc=0.0, unit=\"mmole / l\"\n",
    ")\n",
    "\n",
    "pyruvate_id = enzmldoc.addReactant(pyruvate)\n",
    "ethanol_id = enzmldoc.addReactant(ethanol)\n",
    "acetald_id = enzmldoc.addReactant(acetald)"
   ]
  },
  {
   "cell_type": "code",
   "execution_count": 38,
   "id": "6b1df5f8-1597-4d8c-8b28-bd6caf6e8d50",
   "metadata": {},
   "outputs": [],
   "source": [
    "# Add Enzymes\n",
    "pdc = pe.Protein.fromUniProtID(\n",
    "    uniprotid=\"P11498\", vessel_id=vessel_id,\n",
    "    init_conc=10.0, unit=\"fmole / l\"\n",
    ")\n",
    "\n",
    "adh = pe.Protein.fromUniProtID(\n",
    "    uniprotid=\"P00330\", vessel_id=vessel_id,\n",
    "    init_conc=20.0, unit=\"fmole / l\"\n",
    ")\n",
    "\n",
    "pdc_id = enzmldoc.addProtein(pdc)\n",
    "adh_id = enzmldoc.addProtein(adh)"
   ]
  },
  {
   "cell_type": "code",
   "execution_count": 39,
   "id": "67403600-59ad-4740-bfa1-d3d1137ae81d",
   "metadata": {},
   "outputs": [],
   "source": [
    "# Create reactions\n",
    "reaction_1 = pe.EnzymeReaction.fromEquation(\n",
    "    \"pyruvate -> acetaldehyde\", \"Pyruvate Decarboxylation\",\n",
    "    modifiers=[pdc_id], enzmldoc=enzmldoc\n",
    ")\n",
    "\n",
    "reaction_2 = pe.EnzymeReaction.fromEquation(\n",
    "    \"acetaldehyde -> ethanol\", \"Ethanol formation\",\n",
    "    modifiers=[adh_id], enzmldoc=enzmldoc\n",
    ")"
   ]
  },
  {
   "cell_type": "code",
   "execution_count": 40,
   "id": "3474ca92-a84f-43de-9ed3-e893515946da",
   "metadata": {},
   "outputs": [],
   "source": [
    "# Add models to the reactions to generate simulation data\n",
    "r_1_model = pe.KineticModel.fromEquation(\n",
    "    \"Irreversible Michaelis-Menten\",\n",
    "    \"kcat * Pyruvic carboxylase * pyruvate / (pyruvate + Km)\",\n",
    "    enzmldoc=enzmldoc\n",
    ")\n",
    "\n",
    "r_1_model._kcat.value = 5.0\n",
    "r_1_model._kcat.unit = \"1/min\"\n",
    "r_1_model._Km.value = 20.0\n",
    "r_1_model._Km.unit = \"mmole / l\"\n",
    "\n",
    "r_2_model = pe.KineticModel.fromEquation(\n",
    "    \"Irreversible Michaelis-Menten\",\n",
    "    \"kcat * YADH-1 * acetaldehyde / (acetaldehyde + Km)\",\n",
    "    enzmldoc=enzmldoc\n",
    ")\n",
    "\n",
    "r_2_model._kcat.value = 3.0\n",
    "r_2_model._kcat.unit = \"1/min\"\n",
    "r_2_model._Km.value = 50.0\n",
    "r_2_model._Km.unit = \"mmole / l\"\n",
    "\n",
    "# Assign models\n",
    "reaction_1.model = r_1_model\n",
    "reaction_2.model = r_2_model"
   ]
  },
  {
   "cell_type": "code",
   "execution_count": 41,
   "id": "75477110-6f0e-46cd-9e84-9d7b7cee0026",
   "metadata": {},
   "outputs": [
    {
     "data": {
      "text/plain": [
       "{'Pyruvate Decarboxylation': 'r0', 'Ethanol formation': 'r1'}"
      ]
     },
     "execution_count": 41,
     "metadata": {},
     "output_type": "execute_result"
    }
   ],
   "source": [
    "# Add reactions to the document\n",
    "enzmldoc.addReactions([reaction_1, reaction_2])"
   ]
  },
  {
   "cell_type": "code",
   "execution_count": 42,
   "id": "28b8fd99-8b5a-4723-9165-c4883400e9d0",
   "metadata": {},
   "outputs": [
    {
     "data": {
      "text/html": [
       "<div>\n",
       "<style scoped>\n",
       "    .dataframe tbody tr th:only-of-type {\n",
       "        vertical-align: middle;\n",
       "    }\n",
       "\n",
       "    .dataframe tbody tr th {\n",
       "        vertical-align: top;\n",
       "    }\n",
       "\n",
       "    .dataframe thead th {\n",
       "        text-align: right;\n",
       "    }\n",
       "</style>\n",
       "<table border=\"1\" class=\"dataframe\">\n",
       "  <thead>\n",
       "    <tr style=\"text-align: right;\">\n",
       "      <th></th>\n",
       "      <th>name</th>\n",
       "      <th>value</th>\n",
       "      <th>unit</th>\n",
       "      <th>initial_value</th>\n",
       "      <th>upper</th>\n",
       "      <th>lower</th>\n",
       "      <th>is_global</th>\n",
       "      <th>stdev</th>\n",
       "      <th>constant</th>\n",
       "    </tr>\n",
       "    <tr>\n",
       "      <th>reaction</th>\n",
       "      <th></th>\n",
       "      <th></th>\n",
       "      <th></th>\n",
       "      <th></th>\n",
       "      <th></th>\n",
       "      <th></th>\n",
       "      <th></th>\n",
       "      <th></th>\n",
       "      <th></th>\n",
       "    </tr>\n",
       "  </thead>\n",
       "  <tbody>\n",
       "    <tr>\n",
       "      <th>r0</th>\n",
       "      <td>Km</td>\n",
       "      <td>20.0</td>\n",
       "      <td>mmole / l</td>\n",
       "      <td>None</td>\n",
       "      <td>None</td>\n",
       "      <td>None</td>\n",
       "      <td>False</td>\n",
       "      <td>None</td>\n",
       "      <td>False</td>\n",
       "    </tr>\n",
       "    <tr>\n",
       "      <th>r0</th>\n",
       "      <td>kcat</td>\n",
       "      <td>5.0</td>\n",
       "      <td>1 / min</td>\n",
       "      <td>None</td>\n",
       "      <td>None</td>\n",
       "      <td>None</td>\n",
       "      <td>False</td>\n",
       "      <td>None</td>\n",
       "      <td>False</td>\n",
       "    </tr>\n",
       "    <tr>\n",
       "      <th>r1</th>\n",
       "      <td>Km</td>\n",
       "      <td>50.0</td>\n",
       "      <td>mmole / l</td>\n",
       "      <td>None</td>\n",
       "      <td>None</td>\n",
       "      <td>None</td>\n",
       "      <td>False</td>\n",
       "      <td>None</td>\n",
       "      <td>False</td>\n",
       "    </tr>\n",
       "    <tr>\n",
       "      <th>r1</th>\n",
       "      <td>kcat</td>\n",
       "      <td>3.0</td>\n",
       "      <td>1 / min</td>\n",
       "      <td>None</td>\n",
       "      <td>None</td>\n",
       "      <td>None</td>\n",
       "      <td>False</td>\n",
       "      <td>None</td>\n",
       "      <td>False</td>\n",
       "    </tr>\n",
       "  </tbody>\n",
       "</table>\n",
       "</div>"
      ],
      "text/plain": [
       "          name  value       unit initial_value upper lower  is_global stdev  \\\n",
       "reaction                                                                      \n",
       "r0          Km   20.0  mmole / l          None  None  None      False  None   \n",
       "r0        kcat    5.0    1 / min          None  None  None      False  None   \n",
       "r1          Km   50.0  mmole / l          None  None  None      False  None   \n",
       "r1        kcat    3.0    1 / min          None  None  None      False  None   \n",
       "\n",
       "          constant  \n",
       "reaction            \n",
       "r0           False  \n",
       "r0           False  \n",
       "r1           False  \n",
       "r1           False  "
      ]
     },
     "execution_count": 42,
     "metadata": {},
     "output_type": "execute_result"
    }
   ],
   "source": [
    "enzmldoc.exportKineticParameters()"
   ]
  },
  {
   "cell_type": "code",
   "execution_count": 43,
   "id": "702517e8-f5e2-4503-918b-2c38d184e36c",
   "metadata": {},
   "outputs": [
    {
     "name": "stdout",
     "output_type": "stream",
     "text": [
      "\n",
      "Archive was written to ./Ethanol_Formation_Base.omex\n",
      "\n"
     ]
    }
   ],
   "source": [
    "enzmldoc.toFile(\".\", \"Ethanol_Formation_Base\")"
   ]
  },
  {
   "cell_type": "markdown",
   "id": "9f236a55-a5fa-47d3-9cb1-6439545724b0",
   "metadata": {},
   "source": [
    "## Simulation"
   ]
  },
  {
   "cell_type": "code",
   "execution_count": 44,
   "id": "e5afbb84-390c-468f-99cf-f1f91470a744",
   "metadata": {},
   "outputs": [],
   "source": [
    "from pyenzyme.thinlayers import ThinLayerPysces"
   ]
  },
  {
   "cell_type": "code",
   "execution_count": 45,
   "id": "2efcf885-66cb-449d-a6f4-6f9078d24db6",
   "metadata": {},
   "outputs": [
    {
     "name": "stdout",
     "output_type": "stream",
     "text": [
      "Check SBML support is at action level 2\n",
      "SBML file is L3V2\n",
      "\n",
      "\n",
      "\n",
      "*********ERRORS***********\n",
      "\n",
      "WARNING: Model is encoded as SBML Level 3, PySCeS only officially supports L2V5.\n",
      "\n",
      "*********ERRORS***********\n",
      "\n",
      "\n",
      "Possible errors detected in SBML conversion, Model may be incomplete. Please check the error log file \"Alcohol_formation.xml-sbml_conversion_errors.txt\" for details.\n",
      "\n",
      "\n",
      "*******************************************************************\n",
      "Issues encountered in SBML translation (model processed anyway)\n",
      "SBML source: PySCeS/Alcohol_formation.xml\n",
      "*******************************************************************\n",
      "\n",
      "Parameter units ignored for (local) parameters:\n",
      "['Km', 'kcat'] \n",
      "\n",
      "*******************************************************************\n",
      "\n",
      "Info: single compartment model: locating \"r0\" in default compartment\n",
      "Info: single compartment model: locating \"r1\" in default compartment\n",
      "Writing file: PySCeS/Alcohol_formation.xml.psc\n",
      "\n",
      "SBML2PSC\n",
      "in : PySCeS/Alcohol_formation.xml\n",
      "out: PySCeS/Alcohol_formation.xml.psc\n",
      "Assuming extension is .psc\n",
      "Using model directory: PySCeS\n",
      "PySCeS/Alcohol_formation.xml.psc loading ..... \n",
      "Parsing file: PySCeS/Alcohol_formation.xml.psc\n",
      "Info: No reagents have been fixed\n",
      "Info: \"s3\" has been initialised but does not occur in a rate equation\n",
      " \n",
      "Calculating L matrix . . . . . . .  done.\n",
      "Calculating K matrix . . . . . . . no flux conservation\n",
      " done.\n",
      " \n"
     ]
    }
   ],
   "source": [
    "# Initialize the thin layer\n",
    "thin_layer = ThinLayerPysces(\n",
    "    \"Ethanol_Formation_Base.omex\",\n",
    "    model_dir=\"PySCeS\"\n",
    ")"
   ]
  },
  {
   "cell_type": "code",
   "execution_count": 46,
   "id": "1281c202-145a-408e-9e20-b65e72e2d5f3",
   "metadata": {},
   "outputs": [
    {
     "name": "stdout",
     "output_type": "stream",
     "text": [
      "Alcohol formation\n",
      ">>> Reactants\n",
      "\tID: s0 \t Name: acetaldehyde\n",
      "\tID: s1 \t Name: pyruvate\n",
      "\tID: s2 \t Name: ethanol\n",
      "\tID: s3 \t Name: acetaldehyde\n",
      ">>> Proteins\n",
      "\tID: p0 \t Name: Pyruvic carboxylase\n",
      "\tID: p1 \t Name: YADH-1\n",
      ">>> Complexes\n",
      ">>> Reactions\n",
      "\tID: r0 \t Name: Pyruvate Decarboxylation\n",
      "\tID: r1 \t Name: Ethanol formation\n"
     ]
    }
   ],
   "source": [
    "enzmldoc.printDocument()"
   ]
  },
  {
   "cell_type": "code",
   "execution_count": 47,
   "id": "d9024426-bf1c-49db-a4e1-041f6e1a1248",
   "metadata": {},
   "outputs": [],
   "source": [
    "# Create simulation inputs\n",
    "inits = [\n",
    "    dict(time=list(range(0,60,10)), s0=10.0, s1=0.00, s2=0.00, s3=0.00),\n",
    "    dict(time=list(range(0,60,10)), s0=20.0, s1=0.00, s2=0.00, s3=0.00),\n",
    "    dict(time=list(range(0,60,10)), s0=30.0, s1=0.00, s2=0.00, s3=0.00),\n",
    "    dict(time=list(range(0,60,10)), s0=50.0, s1=0.00, s2=0.00, s3=0.00),\n",
    "    dict(time=list(range(0,60,10)), s0=100.0, s1=0.00, s2=0.00, s3=0.00),\n",
    "]\n",
    "\n",
    "for init in inits:\n",
    "    \n",
    "    meas = pe.Measurement(\n",
    "        name=f\"s0_{init['s0']}\", global_time=init[\"time\"],\n",
    "        global_time_unit=\"mins\"\n",
    "    )\n",
    "    \n",
    "    meas.addData(reactant_id=\"s0\", init_conc=init[\"s0\"], unit=\"mmole / l\")\n",
    "    meas.addData(reactant_id=\"s1\", init_conc=init[\"s1\"], unit=\"mmole / l\")\n",
    "    meas.addData(reactant_id=\"s2\", init_conc=init[\"s2\"], unit=\"mmole / l\")\n",
    "    meas.addData(reactant_id=\"s3\", init_conc=init[\"s3\"], unit=\"mmole / l\")\n",
    "    \n",
    "    data = thin_layer.simulate(**init)\n",
    "    \n",
    "    repl = pe.Replicate(\n",
    "        id=f\"repl_s0_{init['s0']}\", species_id=\"s0\",\n",
    "        data_unit=\"mmole / l\", time_unit=\"mins\",\n",
    "        data = data.s0.to_list(), time=init[\"time\"]\n",
    "    )\n",
    "    \n",
    "    meas.addReplicates(repl, enzmldoc=enzmldoc)\n",
    "    \n",
    "    enzmldoc.addMeasurement(meas)"
   ]
  },
  {
   "cell_type": "code",
   "execution_count": 48,
   "id": "e0e32fd5-1ec8-4375-9d79-ac97c6660f7c",
   "metadata": {},
   "outputs": [
    {
     "data": {
      "application/vnd.plotly.v1+json": {
       "config": {
        "plotlyServerURL": "https://plot.ly"
       },
       "data": [
        {
         "hovertemplate": "<b>%{hovertext}</b><br><br>species=acetaldehyde<br>measurement=s0_10.0<br>time=%{x}<br>value=%{y}<extra></extra>",
         "hovertext": [
          "acetaldehyde",
          "acetaldehyde",
          "acetaldehyde",
          "acetaldehyde",
          "acetaldehyde",
          "acetaldehyde"
         ],
         "legendgroup": "acetaldehyde",
         "marker": {
          "color": "#636efa",
          "symbol": "circle"
         },
         "mode": "markers",
         "name": "acetaldehyde",
         "orientation": "v",
         "showlegend": true,
         "type": "scatter",
         "x": [
          0,
          10,
          20,
          30,
          40,
          50
         ],
         "xaxis": "x",
         "y": [
          10,
          3.434576909984551,
          1.0842625685979783,
          0.3315272820232341,
          0.10031691140989954,
          0.030257241346081588
         ],
         "yaxis": "y"
        }
       ],
       "frames": [
        {
         "data": [
          {
           "hovertemplate": "<b>%{hovertext}</b><br><br>species=acetaldehyde<br>measurement=s0_10.0<br>time=%{x}<br>value=%{y}<extra></extra>",
           "hovertext": [
            "acetaldehyde",
            "acetaldehyde",
            "acetaldehyde",
            "acetaldehyde",
            "acetaldehyde",
            "acetaldehyde"
           ],
           "legendgroup": "acetaldehyde",
           "marker": {
            "color": "#636efa",
            "symbol": "circle"
           },
           "mode": "markers",
           "name": "acetaldehyde",
           "orientation": "v",
           "showlegend": true,
           "type": "scatter",
           "x": [
            0,
            10,
            20,
            30,
            40,
            50
           ],
           "xaxis": "x",
           "y": [
            10,
            3.434576909984551,
            1.0842625685979783,
            0.3315272820232341,
            0.10031691140989954,
            0.030257241346081588
           ],
           "yaxis": "y"
          }
         ],
         "name": "s0_10.0"
        },
        {
         "data": [
          {
           "hovertemplate": "<b>%{hovertext}</b><br><br>species=acetaldehyde<br>measurement=s0_20.0<br>time=%{x}<br>value=%{y}<extra></extra>",
           "hovertext": [
            "acetaldehyde",
            "acetaldehyde",
            "acetaldehyde",
            "acetaldehyde",
            "acetaldehyde",
            "acetaldehyde"
           ],
           "legendgroup": "acetaldehyde",
           "marker": {
            "color": "#636efa",
            "symbol": "circle"
           },
           "mode": "markers",
           "name": "acetaldehyde",
           "orientation": "v",
           "showlegend": true,
           "type": "scatter",
           "x": [
            0,
            10,
            20,
            30,
            40,
            50
           ],
           "xaxis": "x",
           "y": [
            20,
            7.703417307255023,
            2.571042721770805,
            0.8022677437358088,
            0.24434983716111489,
            0.07384814212650753
           ],
           "yaxis": "y"
          }
         ],
         "name": "s0_20.0"
        },
        {
         "data": [
          {
           "hovertemplate": "<b>%{hovertext}</b><br><br>species=acetaldehyde<br>measurement=s0_30.0<br>time=%{x}<br>value=%{y}<extra></extra>",
           "hovertext": [
            "acetaldehyde",
            "acetaldehyde",
            "acetaldehyde",
            "acetaldehyde",
            "acetaldehyde",
            "acetaldehyde"
           ],
           "legendgroup": "acetaldehyde",
           "marker": {
            "color": "#636efa",
            "symbol": "circle"
           },
           "mode": "markers",
           "name": "acetaldehyde",
           "orientation": "v",
           "showlegend": true,
           "type": "scatter",
           "x": [
            0,
            10,
            20,
            30,
            40,
            50
           ],
           "xaxis": "x",
           "y": [
            30,
            12.756769494718792,
            4.529482949027485,
            1.4508935611000167,
            0.44587353561104964,
            0.13513171926848044
           ],
           "yaxis": "y"
          }
         ],
         "name": "s0_30.0"
        },
        {
         "data": [
          {
           "hovertemplate": "<b>%{hovertext}</b><br><br>species=acetaldehyde<br>measurement=s0_50.0<br>time=%{x}<br>value=%{y}<extra></extra>",
           "hovertext": [
            "acetaldehyde",
            "acetaldehyde",
            "acetaldehyde",
            "acetaldehyde",
            "acetaldehyde",
            "acetaldehyde"
           ],
           "legendgroup": "acetaldehyde",
           "marker": {
            "color": "#636efa",
            "symbol": "circle"
           },
           "mode": "markers",
           "name": "acetaldehyde",
           "orientation": "v",
           "showlegend": true,
           "type": "scatter",
           "x": [
            0,
            10,
            20,
            30,
            40,
            50
           ],
           "xaxis": "x",
           "y": [
            50,
            24.88596118337123,
            10.078907816941898,
            3.4650337210060123,
            1.0943237653361142,
            0.3346501713203528
           ],
           "yaxis": "y"
          }
         ],
         "name": "s0_50.0"
        },
        {
         "data": [
          {
           "hovertemplate": "<b>%{hovertext}</b><br><br>species=acetaldehyde<br>measurement=s0_100.0<br>time=%{x}<br>value=%{y}<extra></extra>",
           "hovertext": [
            "acetaldehyde",
            "acetaldehyde",
            "acetaldehyde",
            "acetaldehyde",
            "acetaldehyde",
            "acetaldehyde"
           ],
           "legendgroup": "acetaldehyde",
           "marker": {
            "color": "#636efa",
            "symbol": "circle"
           },
           "mode": "markers",
           "name": "acetaldehyde",
           "orientation": "v",
           "showlegend": true,
           "type": "scatter",
           "x": [
            0,
            10,
            20,
            30,
            40,
            50
           ],
           "xaxis": "x",
           "y": [
            100,
            63.056752960013206,
            33.975915678495156,
            14.96679798030696,
            5.4527262957124645,
            1.7679334077302904
           ],
           "yaxis": "y"
          }
         ],
         "name": "s0_100.0"
        }
       ],
       "layout": {
        "height": 500,
        "hovermode": "closest",
        "legend": {
         "orientation": "h",
         "title": {
          "text": "species"
         },
         "tracegroupgap": 0,
         "x": 1,
         "xanchor": "right",
         "y": 1.02,
         "yanchor": "bottom"
        },
        "margin": {
         "t": 60
        },
        "sliders": [
         {
          "active": 0,
          "currentvalue": {
           "prefix": "measurement="
          },
          "len": 0.9,
          "pad": {
           "b": 10,
           "t": 60
          },
          "steps": [
           {
            "args": [
             [
              "s0_10.0"
             ],
             {
              "frame": {
               "duration": 0,
               "redraw": false
              },
              "fromcurrent": true,
              "mode": "immediate",
              "transition": {
               "duration": 0,
               "easing": "linear"
              }
             }
            ],
            "label": "s0_10.0",
            "method": "animate"
           },
           {
            "args": [
             [
              "s0_20.0"
             ],
             {
              "frame": {
               "duration": 0,
               "redraw": false
              },
              "fromcurrent": true,
              "mode": "immediate",
              "transition": {
               "duration": 0,
               "easing": "linear"
              }
             }
            ],
            "label": "s0_20.0",
            "method": "animate"
           },
           {
            "args": [
             [
              "s0_30.0"
             ],
             {
              "frame": {
               "duration": 0,
               "redraw": false
              },
              "fromcurrent": true,
              "mode": "immediate",
              "transition": {
               "duration": 0,
               "easing": "linear"
              }
             }
            ],
            "label": "s0_30.0",
            "method": "animate"
           },
           {
            "args": [
             [
              "s0_50.0"
             ],
             {
              "frame": {
               "duration": 0,
               "redraw": false
              },
              "fromcurrent": true,
              "mode": "immediate",
              "transition": {
               "duration": 0,
               "easing": "linear"
              }
             }
            ],
            "label": "s0_50.0",
            "method": "animate"
           },
           {
            "args": [
             [
              "s0_100.0"
             ],
             {
              "frame": {
               "duration": 0,
               "redraw": false
              },
              "fromcurrent": true,
              "mode": "immediate",
              "transition": {
               "duration": 0,
               "easing": "linear"
              }
             }
            ],
            "label": "s0_100.0",
            "method": "animate"
           }
          ],
          "x": 0.1,
          "xanchor": "left",
          "y": 0,
          "yanchor": "top"
         }
        ],
        "template": {
         "data": {
          "bar": [
           {
            "error_x": {
             "color": "#2a3f5f"
            },
            "error_y": {
             "color": "#2a3f5f"
            },
            "marker": {
             "line": {
              "color": "white",
              "width": 0.5
             },
             "pattern": {
              "fillmode": "overlay",
              "size": 10,
              "solidity": 0.2
             }
            },
            "type": "bar"
           }
          ],
          "barpolar": [
           {
            "marker": {
             "line": {
              "color": "white",
              "width": 0.5
             },
             "pattern": {
              "fillmode": "overlay",
              "size": 10,
              "solidity": 0.2
             }
            },
            "type": "barpolar"
           }
          ],
          "carpet": [
           {
            "aaxis": {
             "endlinecolor": "#2a3f5f",
             "gridcolor": "#C8D4E3",
             "linecolor": "#C8D4E3",
             "minorgridcolor": "#C8D4E3",
             "startlinecolor": "#2a3f5f"
            },
            "baxis": {
             "endlinecolor": "#2a3f5f",
             "gridcolor": "#C8D4E3",
             "linecolor": "#C8D4E3",
             "minorgridcolor": "#C8D4E3",
             "startlinecolor": "#2a3f5f"
            },
            "type": "carpet"
           }
          ],
          "choropleth": [
           {
            "colorbar": {
             "outlinewidth": 0,
             "ticks": ""
            },
            "type": "choropleth"
           }
          ],
          "contour": [
           {
            "colorbar": {
             "outlinewidth": 0,
             "ticks": ""
            },
            "colorscale": [
             [
              0,
              "#0d0887"
             ],
             [
              0.1111111111111111,
              "#46039f"
             ],
             [
              0.2222222222222222,
              "#7201a8"
             ],
             [
              0.3333333333333333,
              "#9c179e"
             ],
             [
              0.4444444444444444,
              "#bd3786"
             ],
             [
              0.5555555555555556,
              "#d8576b"
             ],
             [
              0.6666666666666666,
              "#ed7953"
             ],
             [
              0.7777777777777778,
              "#fb9f3a"
             ],
             [
              0.8888888888888888,
              "#fdca26"
             ],
             [
              1,
              "#f0f921"
             ]
            ],
            "type": "contour"
           }
          ],
          "contourcarpet": [
           {
            "colorbar": {
             "outlinewidth": 0,
             "ticks": ""
            },
            "type": "contourcarpet"
           }
          ],
          "heatmap": [
           {
            "colorbar": {
             "outlinewidth": 0,
             "ticks": ""
            },
            "colorscale": [
             [
              0,
              "#0d0887"
             ],
             [
              0.1111111111111111,
              "#46039f"
             ],
             [
              0.2222222222222222,
              "#7201a8"
             ],
             [
              0.3333333333333333,
              "#9c179e"
             ],
             [
              0.4444444444444444,
              "#bd3786"
             ],
             [
              0.5555555555555556,
              "#d8576b"
             ],
             [
              0.6666666666666666,
              "#ed7953"
             ],
             [
              0.7777777777777778,
              "#fb9f3a"
             ],
             [
              0.8888888888888888,
              "#fdca26"
             ],
             [
              1,
              "#f0f921"
             ]
            ],
            "type": "heatmap"
           }
          ],
          "heatmapgl": [
           {
            "colorbar": {
             "outlinewidth": 0,
             "ticks": ""
            },
            "colorscale": [
             [
              0,
              "#0d0887"
             ],
             [
              0.1111111111111111,
              "#46039f"
             ],
             [
              0.2222222222222222,
              "#7201a8"
             ],
             [
              0.3333333333333333,
              "#9c179e"
             ],
             [
              0.4444444444444444,
              "#bd3786"
             ],
             [
              0.5555555555555556,
              "#d8576b"
             ],
             [
              0.6666666666666666,
              "#ed7953"
             ],
             [
              0.7777777777777778,
              "#fb9f3a"
             ],
             [
              0.8888888888888888,
              "#fdca26"
             ],
             [
              1,
              "#f0f921"
             ]
            ],
            "type": "heatmapgl"
           }
          ],
          "histogram": [
           {
            "marker": {
             "pattern": {
              "fillmode": "overlay",
              "size": 10,
              "solidity": 0.2
             }
            },
            "type": "histogram"
           }
          ],
          "histogram2d": [
           {
            "colorbar": {
             "outlinewidth": 0,
             "ticks": ""
            },
            "colorscale": [
             [
              0,
              "#0d0887"
             ],
             [
              0.1111111111111111,
              "#46039f"
             ],
             [
              0.2222222222222222,
              "#7201a8"
             ],
             [
              0.3333333333333333,
              "#9c179e"
             ],
             [
              0.4444444444444444,
              "#bd3786"
             ],
             [
              0.5555555555555556,
              "#d8576b"
             ],
             [
              0.6666666666666666,
              "#ed7953"
             ],
             [
              0.7777777777777778,
              "#fb9f3a"
             ],
             [
              0.8888888888888888,
              "#fdca26"
             ],
             [
              1,
              "#f0f921"
             ]
            ],
            "type": "histogram2d"
           }
          ],
          "histogram2dcontour": [
           {
            "colorbar": {
             "outlinewidth": 0,
             "ticks": ""
            },
            "colorscale": [
             [
              0,
              "#0d0887"
             ],
             [
              0.1111111111111111,
              "#46039f"
             ],
             [
              0.2222222222222222,
              "#7201a8"
             ],
             [
              0.3333333333333333,
              "#9c179e"
             ],
             [
              0.4444444444444444,
              "#bd3786"
             ],
             [
              0.5555555555555556,
              "#d8576b"
             ],
             [
              0.6666666666666666,
              "#ed7953"
             ],
             [
              0.7777777777777778,
              "#fb9f3a"
             ],
             [
              0.8888888888888888,
              "#fdca26"
             ],
             [
              1,
              "#f0f921"
             ]
            ],
            "type": "histogram2dcontour"
           }
          ],
          "mesh3d": [
           {
            "colorbar": {
             "outlinewidth": 0,
             "ticks": ""
            },
            "type": "mesh3d"
           }
          ],
          "parcoords": [
           {
            "line": {
             "colorbar": {
              "outlinewidth": 0,
              "ticks": ""
             }
            },
            "type": "parcoords"
           }
          ],
          "pie": [
           {
            "automargin": true,
            "type": "pie"
           }
          ],
          "scatter": [
           {
            "marker": {
             "colorbar": {
              "outlinewidth": 0,
              "ticks": ""
             }
            },
            "type": "scatter"
           }
          ],
          "scatter3d": [
           {
            "line": {
             "colorbar": {
              "outlinewidth": 0,
              "ticks": ""
             }
            },
            "marker": {
             "colorbar": {
              "outlinewidth": 0,
              "ticks": ""
             }
            },
            "type": "scatter3d"
           }
          ],
          "scattercarpet": [
           {
            "marker": {
             "colorbar": {
              "outlinewidth": 0,
              "ticks": ""
             }
            },
            "type": "scattercarpet"
           }
          ],
          "scattergeo": [
           {
            "marker": {
             "colorbar": {
              "outlinewidth": 0,
              "ticks": ""
             }
            },
            "type": "scattergeo"
           }
          ],
          "scattergl": [
           {
            "marker": {
             "colorbar": {
              "outlinewidth": 0,
              "ticks": ""
             }
            },
            "type": "scattergl"
           }
          ],
          "scattermapbox": [
           {
            "marker": {
             "colorbar": {
              "outlinewidth": 0,
              "ticks": ""
             }
            },
            "type": "scattermapbox"
           }
          ],
          "scatterpolar": [
           {
            "marker": {
             "colorbar": {
              "outlinewidth": 0,
              "ticks": ""
             }
            },
            "type": "scatterpolar"
           }
          ],
          "scatterpolargl": [
           {
            "marker": {
             "colorbar": {
              "outlinewidth": 0,
              "ticks": ""
             }
            },
            "type": "scatterpolargl"
           }
          ],
          "scatterternary": [
           {
            "marker": {
             "colorbar": {
              "outlinewidth": 0,
              "ticks": ""
             }
            },
            "type": "scatterternary"
           }
          ],
          "surface": [
           {
            "colorbar": {
             "outlinewidth": 0,
             "ticks": ""
            },
            "colorscale": [
             [
              0,
              "#0d0887"
             ],
             [
              0.1111111111111111,
              "#46039f"
             ],
             [
              0.2222222222222222,
              "#7201a8"
             ],
             [
              0.3333333333333333,
              "#9c179e"
             ],
             [
              0.4444444444444444,
              "#bd3786"
             ],
             [
              0.5555555555555556,
              "#d8576b"
             ],
             [
              0.6666666666666666,
              "#ed7953"
             ],
             [
              0.7777777777777778,
              "#fb9f3a"
             ],
             [
              0.8888888888888888,
              "#fdca26"
             ],
             [
              1,
              "#f0f921"
             ]
            ],
            "type": "surface"
           }
          ],
          "table": [
           {
            "cells": {
             "fill": {
              "color": "#EBF0F8"
             },
             "line": {
              "color": "white"
             }
            },
            "header": {
             "fill": {
              "color": "#C8D4E3"
             },
             "line": {
              "color": "white"
             }
            },
            "type": "table"
           }
          ]
         },
         "layout": {
          "annotationdefaults": {
           "arrowcolor": "#2a3f5f",
           "arrowhead": 0,
           "arrowwidth": 1
          },
          "autotypenumbers": "strict",
          "coloraxis": {
           "colorbar": {
            "outlinewidth": 0,
            "ticks": ""
           }
          },
          "colorscale": {
           "diverging": [
            [
             0,
             "#8e0152"
            ],
            [
             0.1,
             "#c51b7d"
            ],
            [
             0.2,
             "#de77ae"
            ],
            [
             0.3,
             "#f1b6da"
            ],
            [
             0.4,
             "#fde0ef"
            ],
            [
             0.5,
             "#f7f7f7"
            ],
            [
             0.6,
             "#e6f5d0"
            ],
            [
             0.7,
             "#b8e186"
            ],
            [
             0.8,
             "#7fbc41"
            ],
            [
             0.9,
             "#4d9221"
            ],
            [
             1,
             "#276419"
            ]
           ],
           "sequential": [
            [
             0,
             "#0d0887"
            ],
            [
             0.1111111111111111,
             "#46039f"
            ],
            [
             0.2222222222222222,
             "#7201a8"
            ],
            [
             0.3333333333333333,
             "#9c179e"
            ],
            [
             0.4444444444444444,
             "#bd3786"
            ],
            [
             0.5555555555555556,
             "#d8576b"
            ],
            [
             0.6666666666666666,
             "#ed7953"
            ],
            [
             0.7777777777777778,
             "#fb9f3a"
            ],
            [
             0.8888888888888888,
             "#fdca26"
            ],
            [
             1,
             "#f0f921"
            ]
           ],
           "sequentialminus": [
            [
             0,
             "#0d0887"
            ],
            [
             0.1111111111111111,
             "#46039f"
            ],
            [
             0.2222222222222222,
             "#7201a8"
            ],
            [
             0.3333333333333333,
             "#9c179e"
            ],
            [
             0.4444444444444444,
             "#bd3786"
            ],
            [
             0.5555555555555556,
             "#d8576b"
            ],
            [
             0.6666666666666666,
             "#ed7953"
            ],
            [
             0.7777777777777778,
             "#fb9f3a"
            ],
            [
             0.8888888888888888,
             "#fdca26"
            ],
            [
             1,
             "#f0f921"
            ]
           ]
          },
          "colorway": [
           "#636efa",
           "#EF553B",
           "#00cc96",
           "#ab63fa",
           "#FFA15A",
           "#19d3f3",
           "#FF6692",
           "#B6E880",
           "#FF97FF",
           "#FECB52"
          ],
          "font": {
           "color": "#2a3f5f"
          },
          "geo": {
           "bgcolor": "white",
           "lakecolor": "white",
           "landcolor": "white",
           "showlakes": true,
           "showland": true,
           "subunitcolor": "#C8D4E3"
          },
          "hoverlabel": {
           "align": "left"
          },
          "hovermode": "closest",
          "mapbox": {
           "style": "light"
          },
          "paper_bgcolor": "white",
          "plot_bgcolor": "white",
          "polar": {
           "angularaxis": {
            "gridcolor": "#EBF0F8",
            "linecolor": "#EBF0F8",
            "ticks": ""
           },
           "bgcolor": "white",
           "radialaxis": {
            "gridcolor": "#EBF0F8",
            "linecolor": "#EBF0F8",
            "ticks": ""
           }
          },
          "scene": {
           "xaxis": {
            "backgroundcolor": "white",
            "gridcolor": "#DFE8F3",
            "gridwidth": 2,
            "linecolor": "#EBF0F8",
            "showbackground": true,
            "ticks": "",
            "zerolinecolor": "#EBF0F8"
           },
           "yaxis": {
            "backgroundcolor": "white",
            "gridcolor": "#DFE8F3",
            "gridwidth": 2,
            "linecolor": "#EBF0F8",
            "showbackground": true,
            "ticks": "",
            "zerolinecolor": "#EBF0F8"
           },
           "zaxis": {
            "backgroundcolor": "white",
            "gridcolor": "#DFE8F3",
            "gridwidth": 2,
            "linecolor": "#EBF0F8",
            "showbackground": true,
            "ticks": "",
            "zerolinecolor": "#EBF0F8"
           }
          },
          "shapedefaults": {
           "line": {
            "color": "#2a3f5f"
           }
          },
          "ternary": {
           "aaxis": {
            "gridcolor": "#DFE8F3",
            "linecolor": "#A2B1C6",
            "ticks": ""
           },
           "baxis": {
            "gridcolor": "#DFE8F3",
            "linecolor": "#A2B1C6",
            "ticks": ""
           },
           "bgcolor": "white",
           "caxis": {
            "gridcolor": "#DFE8F3",
            "linecolor": "#A2B1C6",
            "ticks": ""
           }
          },
          "title": {
           "x": 0.05
          },
          "xaxis": {
           "automargin": true,
           "gridcolor": "#EBF0F8",
           "linecolor": "#EBF0F8",
           "ticks": "",
           "title": {
            "standoff": 15
           },
           "zerolinecolor": "#EBF0F8",
           "zerolinewidth": 2
          },
          "yaxis": {
           "automargin": true,
           "gridcolor": "#EBF0F8",
           "linecolor": "#EBF0F8",
           "ticks": "",
           "title": {
            "standoff": 15
           },
           "zerolinecolor": "#EBF0F8",
           "zerolinewidth": 2
          }
         }
        },
        "updatemenus": [
         {
          "buttons": [
           {
            "args": [
             null,
             {
              "frame": {
               "duration": 500,
               "redraw": false
              },
              "fromcurrent": true,
              "mode": "immediate",
              "transition": {
               "duration": 500,
               "easing": "linear"
              }
             }
            ],
            "label": "&#9654;",
            "method": "animate"
           },
           {
            "args": [
             [
              null
             ],
             {
              "frame": {
               "duration": 0,
               "redraw": false
              },
              "fromcurrent": true,
              "mode": "immediate",
              "transition": {
               "duration": 0,
               "easing": "linear"
              }
             }
            ],
            "label": "&#9724;",
            "method": "animate"
           }
          ],
          "direction": "left",
          "pad": {
           "r": 10,
           "t": 70
          },
          "showactive": false,
          "type": "buttons",
          "x": 0.1,
          "xanchor": "right",
          "y": 0,
          "yanchor": "top"
         }
        ],
        "width": 1000,
        "xaxis": {
         "anchor": "y",
         "autorange": true,
         "domain": [
          0,
          1
         ],
         "range": [
          -3.0561122244488983,
          53.056112224448896
         ],
         "title": {
          "text": "time"
         },
         "type": "linear"
        },
        "yaxis": {
         "anchor": "x",
         "domain": [
          0,
          1
         ],
         "range": [
          -5,
          122.61030129817968
         ],
         "title": {
          "text": "value"
         },
         "type": "linear"
        }
       }
      },
      "image/png": "[encoded data removed]",
      "text/html": [
       "<div>                            <div id=\"d3fd0415-9b36-453e-81e5-3b2429999d7a\" class=\"plotly-graph-div\" style=\"height:500px; width:1000px;\"></div>            <script type=\"text/javascript\">                require([\"plotly\"], function(Plotly) {                    window.PLOTLYENV=window.PLOTLYENV || {};                                    if (document.getElementById(\"d3fd0415-9b36-453e-81e5-3b2429999d7a\")) {                    Plotly.newPlot(                        \"d3fd0415-9b36-453e-81e5-3b2429999d7a\",                        [{\"hovertemplate\":\"<b>%{hovertext}</b><br><br>species=acetaldehyde<br>measurement=s0_10.0<br>time=%{x}<br>value=%{y}<extra></extra>\",\"hovertext\":[\"acetaldehyde\",\"acetaldehyde\",\"acetaldehyde\",\"acetaldehyde\",\"acetaldehyde\",\"acetaldehyde\"],\"legendgroup\":\"acetaldehyde\",\"marker\":{\"color\":\"#636efa\",\"symbol\":\"circle\"},\"mode\":\"markers\",\"name\":\"acetaldehyde\",\"orientation\":\"v\",\"showlegend\":true,\"x\":[0.0,10.0,20.0,30.0,40.0,50.0],\"xaxis\":\"x\",\"y\":[10.0,3.434576909984551,1.0842625685979783,0.3315272820232341,0.10031691140989954,0.030257241346081588],\"yaxis\":\"y\",\"type\":\"scatter\"}],                        {\"template\":{\"data\":{\"barpolar\":[{\"marker\":{\"line\":{\"color\":\"white\",\"width\":0.5},\"pattern\":{\"fillmode\":\"overlay\",\"size\":10,\"solidity\":0.2}},\"type\":\"barpolar\"}],\"bar\":[{\"error_x\":{\"color\":\"#2a3f5f\"},\"error_y\":{\"color\":\"#2a3f5f\"},\"marker\":{\"line\":{\"color\":\"white\",\"width\":0.5},\"pattern\":{\"fillmode\":\"overlay\",\"size\":10,\"solidity\":0.2}},\"type\":\"bar\"}],\"carpet\":[{\"aaxis\":{\"endlinecolor\":\"#2a3f5f\",\"gridcolor\":\"#C8D4E3\",\"linecolor\":\"#C8D4E3\",\"minorgridcolor\":\"#C8D4E3\",\"startlinecolor\":\"#2a3f5f\"},\"baxis\":{\"endlinecolor\":\"#2a3f5f\",\"gridcolor\":\"#C8D4E3\",\"linecolor\":\"#C8D4E3\",\"minorgridcolor\":\"#C8D4E3\",\"startlinecolor\":\"#2a3f5f\"},\"type\":\"carpet\"}],\"choropleth\":[{\"colorbar\":{\"outlinewidth\":0,\"ticks\":\"\"},\"type\":\"choropleth\"}],\"contourcarpet\":[{\"colorbar\":{\"outlinewidth\":0,\"ticks\":\"\"},\"type\":\"contourcarpet\"}],\"contour\":[{\"colorbar\":{\"outlinewidth\":0,\"ticks\":\"\"},\"colorscale\":[[0.0,\"#0d0887\"],[0.1111111111111111,\"#46039f\"],[0.2222222222222222,\"#7201a8\"],[0.3333333333333333,\"#9c179e\"],[0.4444444444444444,\"#bd3786\"],[0.5555555555555556,\"#d8576b\"],[0.6666666666666666,\"#ed7953\"],[0.7777777777777778,\"#fb9f3a\"],[0.8888888888888888,\"#fdca26\"],[1.0,\"#f0f921\"]],\"type\":\"contour\"}],\"heatmapgl\":[{\"colorbar\":{\"outlinewidth\":0,\"ticks\":\"\"},\"colorscale\":[[0.0,\"#0d0887\"],[0.1111111111111111,\"#46039f\"],[0.2222222222222222,\"#7201a8\"],[0.3333333333333333,\"#9c179e\"],[0.4444444444444444,\"#bd3786\"],[0.5555555555555556,\"#d8576b\"],[0.6666666666666666,\"#ed7953\"],[0.7777777777777778,\"#fb9f3a\"],[0.8888888888888888,\"#fdca26\"],[1.0,\"#f0f921\"]],\"type\":\"heatmapgl\"}],\"heatmap\":[{\"colorbar\":{\"outlinewidth\":0,\"ticks\":\"\"},\"colorscale\":[[0.0,\"#0d0887\"],[0.1111111111111111,\"#46039f\"],[0.2222222222222222,\"#7201a8\"],[0.3333333333333333,\"#9c179e\"],[0.4444444444444444,\"#bd3786\"],[0.5555555555555556,\"#d8576b\"],[0.6666666666666666,\"#ed7953\"],[0.7777777777777778,\"#fb9f3a\"],[0.8888888888888888,\"#fdca26\"],[1.0,\"#f0f921\"]],\"type\":\"heatmap\"}],\"histogram2dcontour\":[{\"colorbar\":{\"outlinewidth\":0,\"ticks\":\"\"},\"colorscale\":[[0.0,\"#0d0887\"],[0.1111111111111111,\"#46039f\"],[0.2222222222222222,\"#7201a8\"],[0.3333333333333333,\"#9c179e\"],[0.4444444444444444,\"#bd3786\"],[0.5555555555555556,\"#d8576b\"],[0.6666666666666666,\"#ed7953\"],[0.7777777777777778,\"#fb9f3a\"],[0.8888888888888888,\"#fdca26\"],[1.0,\"#f0f921\"]],\"type\":\"histogram2dcontour\"}],\"histogram2d\":[{\"colorbar\":{\"outlinewidth\":0,\"ticks\":\"\"},\"colorscale\":[[0.0,\"#0d0887\"],[0.1111111111111111,\"#46039f\"],[0.2222222222222222,\"#7201a8\"],[0.3333333333333333,\"#9c179e\"],[0.4444444444444444,\"#bd3786\"],[0.5555555555555556,\"#d8576b\"],[0.6666666666666666,\"#ed7953\"],[0.7777777777777778,\"#fb9f3a\"],[0.8888888888888888,\"#fdca26\"],[1.0,\"#f0f921\"]],\"type\":\"histogram2d\"}],\"histogram\":[{\"marker\":{\"pattern\":{\"fillmode\":\"overlay\",\"size\":10,\"solidity\":0.2}},\"type\":\"histogram\"}],\"mesh3d\":[{\"colorbar\":{\"outlinewidth\":0,\"ticks\":\"\"},\"type\":\"mesh3d\"}],\"parcoords\":[{\"line\":{\"colorbar\":{\"outlinewidth\":0,\"ticks\":\"\"}},\"type\":\"parcoords\"}],\"pie\":[{\"automargin\":true,\"type\":\"pie\"}],\"scatter3d\":[{\"line\":{\"colorbar\":{\"outlinewidth\":0,\"ticks\":\"\"}},\"marker\":{\"colorbar\":{\"outlinewidth\":0,\"ticks\":\"\"}},\"type\":\"scatter3d\"}],\"scattercarpet\":[{\"marker\":{\"colorbar\":{\"outlinewidth\":0,\"ticks\":\"\"}},\"type\":\"scattercarpet\"}],\"scattergeo\":[{\"marker\":{\"colorbar\":{\"outlinewidth\":0,\"ticks\":\"\"}},\"type\":\"scattergeo\"}],\"scattergl\":[{\"marker\":{\"colorbar\":{\"outlinewidth\":0,\"ticks\":\"\"}},\"type\":\"scattergl\"}],\"scattermapbox\":[{\"marker\":{\"colorbar\":{\"outlinewidth\":0,\"ticks\":\"\"}},\"type\":\"scattermapbox\"}],\"scatterpolargl\":[{\"marker\":{\"colorbar\":{\"outlinewidth\":0,\"ticks\":\"\"}},\"type\":\"scatterpolargl\"}],\"scatterpolar\":[{\"marker\":{\"colorbar\":{\"outlinewidth\":0,\"ticks\":\"\"}},\"type\":\"scatterpolar\"}],\"scatter\":[{\"marker\":{\"colorbar\":{\"outlinewidth\":0,\"ticks\":\"\"}},\"type\":\"scatter\"}],\"scatterternary\":[{\"marker\":{\"colorbar\":{\"outlinewidth\":0,\"ticks\":\"\"}},\"type\":\"scatterternary\"}],\"surface\":[{\"colorbar\":{\"outlinewidth\":0,\"ticks\":\"\"},\"colorscale\":[[0.0,\"#0d0887\"],[0.1111111111111111,\"#46039f\"],[0.2222222222222222,\"#7201a8\"],[0.3333333333333333,\"#9c179e\"],[0.4444444444444444,\"#bd3786\"],[0.5555555555555556,\"#d8576b\"],[0.6666666666666666,\"#ed7953\"],[0.7777777777777778,\"#fb9f3a\"],[0.8888888888888888,\"#fdca26\"],[1.0,\"#f0f921\"]],\"type\":\"surface\"}],\"table\":[{\"cells\":{\"fill\":{\"color\":\"#EBF0F8\"},\"line\":{\"color\":\"white\"}},\"header\":{\"fill\":{\"color\":\"#C8D4E3\"},\"line\":{\"color\":\"white\"}},\"type\":\"table\"}]},\"layout\":{\"annotationdefaults\":{\"arrowcolor\":\"#2a3f5f\",\"arrowhead\":0,\"arrowwidth\":1},\"autotypenumbers\":\"strict\",\"coloraxis\":{\"colorbar\":{\"outlinewidth\":0,\"ticks\":\"\"}},\"colorscale\":{\"diverging\":[[0,\"#8e0152\"],[0.1,\"#c51b7d\"],[0.2,\"#de77ae\"],[0.3,\"#f1b6da\"],[0.4,\"#fde0ef\"],[0.5,\"#f7f7f7\"],[0.6,\"#e6f5d0\"],[0.7,\"#b8e186\"],[0.8,\"#7fbc41\"],[0.9,\"#4d9221\"],[1,\"#276419\"]],\"sequential\":[[0.0,\"#0d0887\"],[0.1111111111111111,\"#46039f\"],[0.2222222222222222,\"#7201a8\"],[0.3333333333333333,\"#9c179e\"],[0.4444444444444444,\"#bd3786\"],[0.5555555555555556,\"#d8576b\"],[0.6666666666666666,\"#ed7953\"],[0.7777777777777778,\"#fb9f3a\"],[0.8888888888888888,\"#fdca26\"],[1.0,\"#f0f921\"]],\"sequentialminus\":[[0.0,\"#0d0887\"],[0.1111111111111111,\"#46039f\"],[0.2222222222222222,\"#7201a8\"],[0.3333333333333333,\"#9c179e\"],[0.4444444444444444,\"#bd3786\"],[0.5555555555555556,\"#d8576b\"],[0.6666666666666666,\"#ed7953\"],[0.7777777777777778,\"#fb9f3a\"],[0.8888888888888888,\"#fdca26\"],[1.0,\"#f0f921\"]]},\"colorway\":[\"#636efa\",\"#EF553B\",\"#00cc96\",\"#ab63fa\",\"#FFA15A\",\"#19d3f3\",\"#FF6692\",\"#B6E880\",\"#FF97FF\",\"#FECB52\"],\"font\":{\"color\":\"#2a3f5f\"},\"geo\":{\"bgcolor\":\"white\",\"lakecolor\":\"white\",\"landcolor\":\"white\",\"showlakes\":true,\"showland\":true,\"subunitcolor\":\"#C8D4E3\"},\"hoverlabel\":{\"align\":\"left\"},\"hovermode\":\"closest\",\"mapbox\":{\"style\":\"light\"},\"paper_bgcolor\":\"white\",\"plot_bgcolor\":\"white\",\"polar\":{\"angularaxis\":{\"gridcolor\":\"#EBF0F8\",\"linecolor\":\"#EBF0F8\",\"ticks\":\"\"},\"bgcolor\":\"white\",\"radialaxis\":{\"gridcolor\":\"#EBF0F8\",\"linecolor\":\"#EBF0F8\",\"ticks\":\"\"}},\"scene\":{\"xaxis\":{\"backgroundcolor\":\"white\",\"gridcolor\":\"#DFE8F3\",\"gridwidth\":2,\"linecolor\":\"#EBF0F8\",\"showbackground\":true,\"ticks\":\"\",\"zerolinecolor\":\"#EBF0F8\"},\"yaxis\":{\"backgroundcolor\":\"white\",\"gridcolor\":\"#DFE8F3\",\"gridwidth\":2,\"linecolor\":\"#EBF0F8\",\"showbackground\":true,\"ticks\":\"\",\"zerolinecolor\":\"#EBF0F8\"},\"zaxis\":{\"backgroundcolor\":\"white\",\"gridcolor\":\"#DFE8F3\",\"gridwidth\":2,\"linecolor\":\"#EBF0F8\",\"showbackground\":true,\"ticks\":\"\",\"zerolinecolor\":\"#EBF0F8\"}},\"shapedefaults\":{\"line\":{\"color\":\"#2a3f5f\"}},\"ternary\":{\"aaxis\":{\"gridcolor\":\"#DFE8F3\",\"linecolor\":\"#A2B1C6\",\"ticks\":\"\"},\"baxis\":{\"gridcolor\":\"#DFE8F3\",\"linecolor\":\"#A2B1C6\",\"ticks\":\"\"},\"bgcolor\":\"white\",\"caxis\":{\"gridcolor\":\"#DFE8F3\",\"linecolor\":\"#A2B1C6\",\"ticks\":\"\"}},\"title\":{\"x\":0.05},\"xaxis\":{\"automargin\":true,\"gridcolor\":\"#EBF0F8\",\"linecolor\":\"#EBF0F8\",\"ticks\":\"\",\"title\":{\"standoff\":15},\"zerolinecolor\":\"#EBF0F8\",\"zerolinewidth\":2},\"yaxis\":{\"automargin\":true,\"gridcolor\":\"#EBF0F8\",\"linecolor\":\"#EBF0F8\",\"ticks\":\"\",\"title\":{\"standoff\":15},\"zerolinecolor\":\"#EBF0F8\",\"zerolinewidth\":2}}},\"xaxis\":{\"anchor\":\"y\",\"domain\":[0.0,1.0],\"title\":{\"text\":\"time\"}},\"yaxis\":{\"anchor\":\"x\",\"domain\":[0.0,1.0],\"title\":{\"text\":\"value\"},\"range\":[-5,122.61030129817968]},\"legend\":{\"title\":{\"text\":\"species\"},\"tracegroupgap\":0,\"orientation\":\"h\",\"yanchor\":\"bottom\",\"y\":1.02,\"xanchor\":\"right\",\"x\":1},\"margin\":{\"t\":60},\"height\":500,\"width\":1000,\"updatemenus\":[{\"buttons\":[{\"args\":[null,{\"frame\":{\"duration\":500,\"redraw\":false},\"mode\":\"immediate\",\"fromcurrent\":true,\"transition\":{\"duration\":500,\"easing\":\"linear\"}}],\"label\":\"&#9654;\",\"method\":\"animate\"},{\"args\":[[null],{\"frame\":{\"duration\":0,\"redraw\":false},\"mode\":\"immediate\",\"fromcurrent\":true,\"transition\":{\"duration\":0,\"easing\":\"linear\"}}],\"label\":\"&#9724;\",\"method\":\"animate\"}],\"direction\":\"left\",\"pad\":{\"r\":10,\"t\":70},\"showactive\":false,\"type\":\"buttons\",\"x\":0.1,\"xanchor\":\"right\",\"y\":0,\"yanchor\":\"top\"}],\"sliders\":[{\"active\":0,\"currentvalue\":{\"prefix\":\"measurement=\"},\"len\":0.9,\"pad\":{\"b\":10,\"t\":60},\"steps\":[{\"args\":[[\"s0_10.0\"],{\"frame\":{\"duration\":0,\"redraw\":false},\"mode\":\"immediate\",\"fromcurrent\":true,\"transition\":{\"duration\":0,\"easing\":\"linear\"}}],\"label\":\"s0_10.0\",\"method\":\"animate\"},{\"args\":[[\"s0_20.0\"],{\"frame\":{\"duration\":0,\"redraw\":false},\"mode\":\"immediate\",\"fromcurrent\":true,\"transition\":{\"duration\":0,\"easing\":\"linear\"}}],\"label\":\"s0_20.0\",\"method\":\"animate\"},{\"args\":[[\"s0_30.0\"],{\"frame\":{\"duration\":0,\"redraw\":false},\"mode\":\"immediate\",\"fromcurrent\":true,\"transition\":{\"duration\":0,\"easing\":\"linear\"}}],\"label\":\"s0_30.0\",\"method\":\"animate\"},{\"args\":[[\"s0_50.0\"],{\"frame\":{\"duration\":0,\"redraw\":false},\"mode\":\"immediate\",\"fromcurrent\":true,\"transition\":{\"duration\":0,\"easing\":\"linear\"}}],\"label\":\"s0_50.0\",\"method\":\"animate\"},{\"args\":[[\"s0_100.0\"],{\"frame\":{\"duration\":0,\"redraw\":false},\"mode\":\"immediate\",\"fromcurrent\":true,\"transition\":{\"duration\":0,\"easing\":\"linear\"}}],\"label\":\"s0_100.0\",\"method\":\"animate\"}],\"x\":0.1,\"xanchor\":\"left\",\"y\":0,\"yanchor\":\"top\"}],\"hovermode\":\"closest\"},                        {\"responsive\": true}                    ).then(function(){\n",
       "                            Plotly.addFrames('d3fd0415-9b36-453e-81e5-3b2429999d7a', [{\"data\":[{\"hovertemplate\":\"<b>%{hovertext}</b><br><br>species=acetaldehyde<br>measurement=s0_10.0<br>time=%{x}<br>value=%{y}<extra></extra>\",\"hovertext\":[\"acetaldehyde\",\"acetaldehyde\",\"acetaldehyde\",\"acetaldehyde\",\"acetaldehyde\",\"acetaldehyde\"],\"legendgroup\":\"acetaldehyde\",\"marker\":{\"color\":\"#636efa\",\"symbol\":\"circle\"},\"mode\":\"markers\",\"name\":\"acetaldehyde\",\"orientation\":\"v\",\"showlegend\":true,\"x\":[0.0,10.0,20.0,30.0,40.0,50.0],\"xaxis\":\"x\",\"y\":[10.0,3.434576909984551,1.0842625685979783,0.3315272820232341,0.10031691140989954,0.030257241346081588],\"yaxis\":\"y\",\"type\":\"scatter\"}],\"name\":\"s0_10.0\"},{\"data\":[{\"hovertemplate\":\"<b>%{hovertext}</b><br><br>species=acetaldehyde<br>measurement=s0_20.0<br>time=%{x}<br>value=%{y}<extra></extra>\",\"hovertext\":[\"acetaldehyde\",\"acetaldehyde\",\"acetaldehyde\",\"acetaldehyde\",\"acetaldehyde\",\"acetaldehyde\"],\"legendgroup\":\"acetaldehyde\",\"marker\":{\"color\":\"#636efa\",\"symbol\":\"circle\"},\"mode\":\"markers\",\"name\":\"acetaldehyde\",\"orientation\":\"v\",\"showlegend\":true,\"x\":[0.0,10.0,20.0,30.0,40.0,50.0],\"xaxis\":\"x\",\"y\":[20.0,7.703417307255023,2.571042721770805,0.8022677437358088,0.24434983716111489,0.07384814212650753],\"yaxis\":\"y\",\"type\":\"scatter\"}],\"name\":\"s0_20.0\"},{\"data\":[{\"hovertemplate\":\"<b>%{hovertext}</b><br><br>species=acetaldehyde<br>measurement=s0_30.0<br>time=%{x}<br>value=%{y}<extra></extra>\",\"hovertext\":[\"acetaldehyde\",\"acetaldehyde\",\"acetaldehyde\",\"acetaldehyde\",\"acetaldehyde\",\"acetaldehyde\"],\"legendgroup\":\"acetaldehyde\",\"marker\":{\"color\":\"#636efa\",\"symbol\":\"circle\"},\"mode\":\"markers\",\"name\":\"acetaldehyde\",\"orientation\":\"v\",\"showlegend\":true,\"x\":[0.0,10.0,20.0,30.0,40.0,50.0],\"xaxis\":\"x\",\"y\":[30.0,12.756769494718792,4.529482949027485,1.4508935611000167,0.44587353561104964,0.13513171926848044],\"yaxis\":\"y\",\"type\":\"scatter\"}],\"name\":\"s0_30.0\"},{\"data\":[{\"hovertemplate\":\"<b>%{hovertext}</b><br><br>species=acetaldehyde<br>measurement=s0_50.0<br>time=%{x}<br>value=%{y}<extra></extra>\",\"hovertext\":[\"acetaldehyde\",\"acetaldehyde\",\"acetaldehyde\",\"acetaldehyde\",\"acetaldehyde\",\"acetaldehyde\"],\"legendgroup\":\"acetaldehyde\",\"marker\":{\"color\":\"#636efa\",\"symbol\":\"circle\"},\"mode\":\"markers\",\"name\":\"acetaldehyde\",\"orientation\":\"v\",\"showlegend\":true,\"x\":[0.0,10.0,20.0,30.0,40.0,50.0],\"xaxis\":\"x\",\"y\":[50.0,24.88596118337123,10.078907816941898,3.4650337210060123,1.0943237653361142,0.3346501713203528],\"yaxis\":\"y\",\"type\":\"scatter\"}],\"name\":\"s0_50.0\"},{\"data\":[{\"hovertemplate\":\"<b>%{hovertext}</b><br><br>species=acetaldehyde<br>measurement=s0_100.0<br>time=%{x}<br>value=%{y}<extra></extra>\",\"hovertext\":[\"acetaldehyde\",\"acetaldehyde\",\"acetaldehyde\",\"acetaldehyde\",\"acetaldehyde\",\"acetaldehyde\"],\"legendgroup\":\"acetaldehyde\",\"marker\":{\"color\":\"#636efa\",\"symbol\":\"circle\"},\"mode\":\"markers\",\"name\":\"acetaldehyde\",\"orientation\":\"v\",\"showlegend\":true,\"x\":[0.0,10.0,20.0,30.0,40.0,50.0],\"xaxis\":\"x\",\"y\":[100.0,63.056752960013206,33.975915678495156,14.96679798030696,5.4527262957124645,1.7679334077302904],\"yaxis\":\"y\",\"type\":\"scatter\"}],\"name\":\"s0_100.0\"}]);\n",
       "                        }).then(function(){\n",
       "                            \n",
       "var gd = document.getElementById('d3fd0415-9b36-453e-81e5-3b2429999d7a');\n",
       "var x = new MutationObserver(function (mutations, observer) {{\n",
       "        var display = window.getComputedStyle(gd).display;\n",
       "        if (!display || display === 'none') {{\n",
       "            console.log([gd, 'removed!']);\n",
       "            Plotly.purge(gd);\n",
       "            observer.disconnect();\n",
       "        }}\n",
       "}});\n",
       "\n",
       "// Listen for the removal of the full notebook cells\n",
       "var notebookContainer = gd.closest('#notebook-container');\n",
       "if (notebookContainer) {{\n",
       "    x.observe(notebookContainer, {childList: true});\n",
       "}}\n",
       "\n",
       "// Listen for the clearing of the current output cell\n",
       "var outputEl = gd.closest('.output');\n",
       "if (outputEl) {{\n",
       "    x.observe(outputEl, {childList: true});\n",
       "}}\n",
       "\n",
       "                        })                };                });            </script>        </div>"
      ]
     },
     "metadata": {},
     "output_type": "display_data"
    }
   ],
   "source": [
    "enzmldoc.visualize(interactive=True, use_names=True)"
   ]
  },
  {
   "cell_type": "code",
   "execution_count": 49,
   "id": "cedd1b10-034e-4f16-80d7-c331e419b420",
   "metadata": {},
   "outputs": [
    {
     "name": "stdout",
     "output_type": "stream",
     "text": [
      "\n",
      "Archive was written to ./Ethanol_Formation_Simulated.omex\n",
      "\n"
     ]
    }
   ],
   "source": [
    "# Finally, save it to a file\n",
    "enzmldoc.toFile(\".\", \"Ethanol_Formation_Simulated\")"
   ]
  }
 ],
 "metadata": {
  "kernelspec": {
   "display_name": "enzymeml",
   "language": "python",
   "name": "enzymeml"
  },
  "language_info": {
   "codemirror_mode": {
    "name": "ipython",
    "version": 3
   },
   "file_extension": ".py",
   "mimetype": "text/x-python",
   "name": "python",
   "nbconvert_exporter": "python",
   "pygments_lexer": "ipython3",
   "version": "3.9.10"
  }
 },
 "nbformat": 4,
 "nbformat_minor": 5
}
