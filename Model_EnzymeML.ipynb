{
 "cells": [
  {
   "cell_type": "code",
   "execution_count": 1,
   "id": "8fc16d15-2a16-459c-a885-4c240aed632b",
   "metadata": {},
   "outputs": [],
   "source": [
    "import pyenzyme as pe"
   ]
  },
  {
   "cell_type": "code",
   "execution_count": 2,
   "id": "2038627a-e603-4daa-ae83-61f1ab38cb1e",
   "metadata": {},
   "outputs": [],
   "source": [
    "# Data was simulated using the model s0 * a + b\n",
    "# Multiple measurements with different offsets\n",
    "# Replicate data is for s1"
   ]
  },
  {
   "cell_type": "code",
   "execution_count": 3,
   "id": "97304896-95fa-4ad4-af81-393311d91791",
   "metadata": {},
   "outputs": [],
   "source": [
    "from src import Model, LoadEnzymeML, ParameterEstimation "
   ]
  },
  {
   "cell_type": "code",
   "execution_count": 6,
   "id": "067961be-1907-45bd-be8e-42e6b0617c11",
   "metadata": {},
   "outputs": [
    {
     "name": "stdout",
     "output_type": "stream",
     "text": [
      "2022-05-16 08:24:27,091 (WARNING): Running DVC command: 'dvc run -n LoadEnzymeML ...'\n",
      "2022-05-16 08:24:28,723 (WARNING): Running DVC command: 'dvc run -n Pyruvate Decarboxylation ...'\n",
      "2022-05-16 08:24:30,120 (WARNING): Running DVC command: 'dvc run -n Ethanol formation ...'\n",
      "2022-05-16 08:24:33,486 (WARNING): Running DVC command: 'dvc run -n ParameterEstimation ...'\n"
     ]
    }
   ],
   "source": [
    "# Build graph\n",
    "enzmldoc = pe.EnzymeMLDocument.fromFile(\"Ethanol_Formation_Simulated.omex\")\n",
    "load_node = LoadEnzymeML(path=\"Ethanol_Formation_Simulated.omex\")\n",
    "load_node.write_graph(run=True)\n",
    "\n",
    "for index, reaction_obj in enumerate(enzmldoc.reaction_dict.values()):\n",
    "    model_node = Model(\n",
    "        data=load_node if index == 0 else model_node,\n",
    "        equation=reaction_obj.model.equation,\n",
    "        reaction=reaction_obj.id,\n",
    "        name=reaction_obj.name,\n",
    "        config={\n",
    "            parameter.name: {\n",
    "                \"value\": parameter.value,\n",
    "                \"unit\": parameter.unit,\n",
    "                \"initial_value\": parameter.value,\n",
    "                \"upper\": parameter.value + 10,\n",
    "                \"lower\": 0.0000001\n",
    "            }\n",
    "            for parameter in reaction_obj.model.parameters\n",
    "        }\n",
    "    )\n",
    "    model_node.write_graph(run=True)\n",
    "    \n",
    "estimation_node = ParameterEstimation(data=model_node, thinlayer=\"pysces\")\n",
    "estimation_node.write_graph(run=True)"
   ]
  },
  {
   "cell_type": "code",
   "execution_count": 7,
   "id": "7f447106-9f6c-45ab-aa56-94c47f900ca4",
   "metadata": {},
   "outputs": [
    {
     "name": "stdout",
     "output_type": "stream",
     "text": [
      "      +--------------+       \n",
      "      | LoadEnzymeML |       \n",
      "      +--------------+       \n",
      "              *              \n",
      "              *              \n",
      "              *              \n",
      "+--------------------------+ \n",
      "| Pyruvate Decarboxylation | \n",
      "+--------------------------+ \n",
      "              *              \n",
      "              *              \n",
      "              *              \n",
      "    +-------------------+    \n",
      "    | Ethanol formation |    \n",
      "    +-------------------+    \n",
      "              *              \n",
      "              *              \n",
      "              *              \n",
      "  +---------------------+    \n",
      "  | ParameterEstimation |    \n",
      "  +---------------------+    \n",
      "\u001b[0m"
     ]
    }
   ],
   "source": [
    "!dvc dag"
   ]
  }
 ],
 "metadata": {
  "kernelspec": {
   "display_name": "zntrack",
   "language": "python",
   "name": "zntrack"
  },
  "language_info": {
   "codemirror_mode": {
    "name": "ipython",
    "version": 3
   },
   "file_extension": ".py",
   "mimetype": "text/x-python",
   "name": "python",
   "nbconvert_exporter": "python",
   "pygments_lexer": "ipython3",
   "version": "3.9.12"
  }
 },
 "nbformat": 4,
 "nbformat_minor": 5
}
